{
  "nbformat": 4,
  "nbformat_minor": 0,
  "metadata": {
    "colab": {
      "name": "Tensorflow_Intro.ipynb",
      "version": "0.3.2",
      "provenance": [],
      "collapsed_sections": [],
      "include_colab_link": true
    },
    "kernelspec": {
      "name": "python3",
      "display_name": "Python 3"
    }
  },
  "cells": [
    {
      "cell_type": "markdown",
      "metadata": {
        "id": "view-in-github",
        "colab_type": "text"
      },
      "source": [
        "<a href=\"https://colab.research.google.com/github/gurpreetgosal/Tensorflow_excercises/blob/master/Tensorflow_Intro.ipynb\" target=\"_parent\"><img src=\"https://colab.research.google.com/assets/colab-badge.svg\" alt=\"Open In Colab\"/></a>"
      ]
    },
    {
      "metadata": {
        "id": "SpiBuiMvEBuj",
        "colab_type": "code",
        "colab": {}
      },
      "cell_type": "code",
      "source": [
        "import numpy as np\n",
        "import tensorflow as tf"
      ],
      "execution_count": 0,
      "outputs": []
    },
    {
      "metadata": {
        "id": "YGDAzoYZEXhP",
        "colab_type": "code",
        "colab": {}
      },
      "cell_type": "code",
      "source": [
        "def generate_dataset():\n",
        "  pass\n",
        "\n",
        "\n",
        "\n",
        "def linear_regression():\n",
        "  x = tf.placeholder(tf.float32, shape = (None,), name= 'x')\n",
        "  y = tf.placeholder(tf.float32, shape = (None,), name= 'x')\n",
        "  \n",
        "  with tf.variable_scope('lreg') as scope:\n",
        "    w = tf.Variable(np.random.normal(), name= 'w')\n",
        "    y_pred = tf.mul(w,x)\n",
        "    \n",
        "    loss = tf.reduce_mean(square(y_pred - y))\n",
        "  return x,y,y_pred, loss\n",
        "\n",
        "def run():\n",
        "  x_batch, y_batch = generate_dataset()\n",
        "  \n",
        "  x,y,y_pred,loss = linear_regression()\n",
        "  optimizer = tf.train.GradientDescentOptimizer(0.1).minimize(loss)\n",
        "  \n",
        "  init = tf.global_variables_initializer()\n",
        "  with tf.session() as session:\n",
        "    session.run(init)\n",
        "    \n",
        "    feed_dict = {x: x_batch, y: y_batch}\n",
        "    for _ in range(30):\n",
        "      loss_val, = session.run([loss,optimizer], feed_dict)\n",
        "      print('loss', loss_val.mean())\n",
        "     \n",
        "    y_pred_batch = session.run(y_pred, {x:x_batch})\n",
        "    \n",
        "  "
      ],
      "execution_count": 0,
      "outputs": []
    }
  ]
}